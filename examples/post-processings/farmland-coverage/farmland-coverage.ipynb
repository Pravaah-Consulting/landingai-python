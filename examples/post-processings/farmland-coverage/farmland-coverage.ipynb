{
 "cells": [
  {
   "attachments": {},
   "cell_type": "markdown",
   "metadata": {},
   "source": [
    "## Farmland Coverage Analysis\n",
    "\n",
    "This notebook demonstrates how to use a VisualPrompting model to analyze the area coverage of different types of land or structures on satellite images."
   ]
  },
  {
   "attachments": {},
   "cell_type": "markdown",
   "metadata": {},
   "source": [
    "### Installation"
   ]
  },
  {
   "cell_type": "code",
   "execution_count": 5,
   "metadata": {},
   "outputs": [],
   "source": [
    "# Load LandingLens library from the local repo\n",
    "import sys, os\n",
    "sys.path.append(\"../..\")\n",
    "\n",
    "# Alternative: !pip install landingai"
   ]
  },
  {
   "attachments": {},
   "cell_type": "markdown",
   "metadata": {},
   "source": [
    "### Prepare images"
   ]
  },
  {
   "cell_type": "code",
   "execution_count": 6,
   "metadata": {},
   "outputs": [
    {
     "ename": "AttributeError",
     "evalue": "module 'PIL' has no attribute 'Image'",
     "output_type": "error",
     "traceback": [
      "\u001b[0;31m---------------------------------------------------------------------------\u001b[0m",
      "\u001b[0;31mAttributeError\u001b[0m                            Traceback (most recent call last)",
      "Cell \u001b[0;32mIn[6], line 5\u001b[0m\n\u001b[1;32m      1\u001b[0m \u001b[39mimport\u001b[39;00m \u001b[39mnumpy\u001b[39;00m \u001b[39mas\u001b[39;00m \u001b[39mnp\u001b[39;00m\n\u001b[1;32m      2\u001b[0m \u001b[39mimport\u001b[39;00m \u001b[39mPIL\u001b[39;00m\n\u001b[1;32m      4\u001b[0m images \u001b[39m=\u001b[39m [\n\u001b[0;32m----> 5\u001b[0m     np\u001b[39m.\u001b[39masarray(PIL\u001b[39m.\u001b[39;49mImage\u001b[39m.\u001b[39mopen(\u001b[39m\"\u001b[39m\u001b[39mexamples/post-processing/farmland-coverage/sample_images/1196.png\u001b[39m\u001b[39m\"\u001b[39m)),\n\u001b[1;32m      6\u001b[0m     np\u001b[39m.\u001b[39masarray(PIL\u001b[39m.\u001b[39mImage\u001b[39m.\u001b[39mopen(\u001b[39m\"\u001b[39m\u001b[39mexamples/post-processing/farmland-coverage/sample_images/1514.png\u001b[39m\u001b[39m\"\u001b[39m)),\n\u001b[1;32m      7\u001b[0m     np\u001b[39m.\u001b[39masarray(PIL\u001b[39m.\u001b[39mImage\u001b[39m.\u001b[39mopen(\u001b[39m\"\u001b[39m\u001b[39mexamples/post-processing/farmland-coverage/sample_images/1526.png\u001b[39m\u001b[39m\"\u001b[39m))\n\u001b[1;32m      8\u001b[0m ]\n",
      "\u001b[0;31mAttributeError\u001b[0m: module 'PIL' has no attribute 'Image'"
     ]
    }
   ],
   "source": [
    "import numpy as np\n",
    "import PIL\n",
    "\n",
    "images = [\n",
    "    np.asarray(PIL.Image.open(\"examples/post-processing/farmland-coverage/sample_images/1196.png\")),\n",
    "    np.asarray(PIL.Image.open(\"examples/post-processing/farmland-coverage/sample_images/1514.png\")),\n",
    "    np.asarray(PIL.Image.open(\"examples/post-processing/farmland-coverage/sample_images/1526.png\"))\n",
    "]"
   ]
  },
  {
   "cell_type": "markdown",
   "metadata": {},
   "source": [
    "### Example images"
   ]
  },
  {
   "cell_type": "code",
   "execution_count": 3,
   "metadata": {},
   "outputs": [
    {
     "ename": "NameError",
     "evalue": "name 'images' is not defined",
     "output_type": "error",
     "traceback": [
      "\u001b[0;31m---------------------------------------------------------------------------\u001b[0m",
      "\u001b[0;31mNameError\u001b[0m                                 Traceback (most recent call last)",
      "Cell \u001b[0;32mIn[3], line 1\u001b[0m\n\u001b[0;32m----> 1\u001b[0m display(images[\u001b[39m0\u001b[39m])\n",
      "\u001b[0;31mNameError\u001b[0m: name 'images' is not defined"
     ]
    }
   ],
   "source": [
    "display(images[0])"
   ]
  },
  {
   "attachments": {},
   "cell_type": "markdown",
   "metadata": {},
   "source": [
    "### Run inferences"
   ]
  },
  {
   "cell_type": "code",
   "execution_count": null,
   "metadata": {},
   "outputs": [],
   "source": [
    "#@title Set the following variables as needed for your setup\n",
    "api_key = \"zm7ml657kh9a370k9liluxg9heuoufv\"\n",
    "api_secret = \"1ccnesqy4em8dc32k2h2cu5kovdcd6palepaw4ugly6ttfl2fylu340x7ecja0\"\n",
    "endpoint_id = \"16049857-67bf-4c60-b20b-899741adbfdf\""
   ]
  },
  {
   "cell_type": "code",
   "execution_count": null,
   "metadata": {},
   "outputs": [],
   "source": [
    "from landingai.postprocess import segmentation_class_pixel_coverage\n",
    "from landingai.predict import Predictor\n",
    "\n",
    "predictor = Predictor(endpoint_id, api_key, api_secret)\n",
    "predictions = []\n",
    "for img in [img] * 3:\n",
    "        predictions.extend(predictor.predict(img))"
   ]
  },
  {
   "cell_type": "code",
   "execution_count": null,
   "metadata": {},
   "outputs": [],
   "source": [
    "from pathlib import Path\n",
    "\n",
    "def generate_pie_chart(data: dict[int, (float, str)], output_dir: Path) -> None:\n",
    "    \"\"\"Generate a pie chart from the coverage data\"\"\"\n",
    "    import matplotlib.pyplot as plt\n",
    "\n",
    "    labels = [val[1] for val in data.values()]\n",
    "    sizes = [val[0] for val in data.values()]\n",
    "    unclassified_pixels = 1 - sum(sizes)\n",
    "    sizes.append(unclassified_pixels)\n",
    "    labels.append(\"unclassified\")\n",
    "    _, ax = plt.subplots()\n",
    "    ax.pie(sizes, labels=labels, autopct=\"%1.1f%%\", shadow=True, startangle=90)\n",
    "    output_dir.mkdir(parents=True, exist_ok=True)\n",
    "    output_file_path = str(output_dir / \"pie_chart.png\")\n",
    "    plt.savefig(output_file_path)"
   ]
  },
  {
   "cell_type": "code",
   "execution_count": null,
   "metadata": {},
   "outputs": [],
   "source": [
    "generate_pie_chart(coverage, Path(\"tests/output\"))"
   ]
  },
  {
   "cell_type": "markdown",
   "metadata": {},
   "source": []
  }
 ],
 "metadata": {
  "kernelspec": {
   "display_name": "landingai-nSG-IZmK-py3.10",
   "language": "python",
   "name": "python3"
  },
  "language_info": {
   "codemirror_mode": {
    "name": "ipython",
    "version": 3
   },
   "file_extension": ".py",
   "mimetype": "text/x-python",
   "name": "python",
   "nbconvert_exporter": "python",
   "pygments_lexer": "ipython3",
   "version": "3.10.11"
  },
  "orig_nbformat": 4
 },
 "nbformat": 4,
 "nbformat_minor": 2
}
